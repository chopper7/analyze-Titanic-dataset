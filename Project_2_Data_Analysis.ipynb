{
 "cells": [
  {
   "cell_type": "markdown",
   "metadata": {},
   "source": [
    "# Final Project\n",
    "## Udacity Introduction to Data Analysis\n",
    "## (Project 2 of the Data Analyst Nanodegree)\n",
    "## *by Jeff Hartl*"
   ]
  },
  {
   "cell_type": "markdown",
   "metadata": {},
   "source": [
    "### Question: What factors, or combination of factors, made people more likely to survive the sinking of the Titanic?"
   ]
  },
  {
   "cell_type": "code",
   "execution_count": 117,
   "metadata": {
    "collapsed": false,
    "scrolled": false
   },
   "outputs": [
    {
     "name": "stdout",
     "output_type": "stream",
     "text": [
      "Populating the interactive namespace from numpy and matplotlib\n"
     ]
    }
   ],
   "source": [
    "# Settings and imported modules\n",
    "%pylab inline\n",
    "%matplotlib inline\n",
    "import matplotlib as mpl\n",
    "import matplotlib.pyplot as plt\n",
    "import numpy as np\n",
    "import pandas as pd"
   ]
  },
  {
   "cell_type": "code",
   "execution_count": 118,
   "metadata": {
    "collapsed": false,
    "scrolled": false
   },
   "outputs": [],
   "source": [
    "# Load data from the Titanic CSV file into a Pandas DataFrame\n",
    "df = pd.read_csv('titanic_data.csv')"
   ]
  },
  {
   "cell_type": "code",
   "execution_count": 119,
   "metadata": {
    "collapsed": false,
    "scrolled": false
   },
   "outputs": [
    {
     "name": "stdout",
     "output_type": "stream",
     "text": [
      "Index(['PassengerId', 'Survived', 'Pclass', 'Name', 'Sex', 'Age', 'SibSp',\n",
      "       'Parch', 'Ticket', 'Fare', 'Cabin', 'Embarked'],\n",
      "      dtype='object')\n"
     ]
    },
    {
     "data": {
      "text/html": [
       "<div>\n",
       "<table border=\"1\" class=\"dataframe\">\n",
       "  <thead>\n",
       "    <tr style=\"text-align: right;\">\n",
       "      <th></th>\n",
       "      <th>PassengerId</th>\n",
       "      <th>Survived</th>\n",
       "      <th>Pclass</th>\n",
       "      <th>Name</th>\n",
       "      <th>Sex</th>\n",
       "      <th>Age</th>\n",
       "      <th>SibSp</th>\n",
       "      <th>Parch</th>\n",
       "      <th>Ticket</th>\n",
       "      <th>Fare</th>\n",
       "      <th>Cabin</th>\n",
       "      <th>Embarked</th>\n",
       "    </tr>\n",
       "  </thead>\n",
       "  <tbody>\n",
       "    <tr>\n",
       "      <th>0</th>\n",
       "      <td>1</td>\n",
       "      <td>0</td>\n",
       "      <td>3</td>\n",
       "      <td>Braund, Mr. Owen Harris</td>\n",
       "      <td>male</td>\n",
       "      <td>22</td>\n",
       "      <td>1</td>\n",
       "      <td>0</td>\n",
       "      <td>A/5 21171</td>\n",
       "      <td>7.2500</td>\n",
       "      <td>NaN</td>\n",
       "      <td>S</td>\n",
       "    </tr>\n",
       "    <tr>\n",
       "      <th>1</th>\n",
       "      <td>2</td>\n",
       "      <td>1</td>\n",
       "      <td>1</td>\n",
       "      <td>Cumings, Mrs. John Bradley (Florence Briggs Th...</td>\n",
       "      <td>female</td>\n",
       "      <td>38</td>\n",
       "      <td>1</td>\n",
       "      <td>0</td>\n",
       "      <td>PC 17599</td>\n",
       "      <td>71.2833</td>\n",
       "      <td>C85</td>\n",
       "      <td>C</td>\n",
       "    </tr>\n",
       "    <tr>\n",
       "      <th>2</th>\n",
       "      <td>3</td>\n",
       "      <td>1</td>\n",
       "      <td>3</td>\n",
       "      <td>Heikkinen, Miss. Laina</td>\n",
       "      <td>female</td>\n",
       "      <td>26</td>\n",
       "      <td>0</td>\n",
       "      <td>0</td>\n",
       "      <td>STON/O2. 3101282</td>\n",
       "      <td>7.9250</td>\n",
       "      <td>NaN</td>\n",
       "      <td>S</td>\n",
       "    </tr>\n",
       "    <tr>\n",
       "      <th>3</th>\n",
       "      <td>4</td>\n",
       "      <td>1</td>\n",
       "      <td>1</td>\n",
       "      <td>Futrelle, Mrs. Jacques Heath (Lily May Peel)</td>\n",
       "      <td>female</td>\n",
       "      <td>35</td>\n",
       "      <td>1</td>\n",
       "      <td>0</td>\n",
       "      <td>113803</td>\n",
       "      <td>53.1000</td>\n",
       "      <td>C123</td>\n",
       "      <td>S</td>\n",
       "    </tr>\n",
       "    <tr>\n",
       "      <th>4</th>\n",
       "      <td>5</td>\n",
       "      <td>0</td>\n",
       "      <td>3</td>\n",
       "      <td>Allen, Mr. William Henry</td>\n",
       "      <td>male</td>\n",
       "      <td>35</td>\n",
       "      <td>0</td>\n",
       "      <td>0</td>\n",
       "      <td>373450</td>\n",
       "      <td>8.0500</td>\n",
       "      <td>NaN</td>\n",
       "      <td>S</td>\n",
       "    </tr>\n",
       "  </tbody>\n",
       "</table>\n",
       "</div>"
      ],
      "text/plain": [
       "   PassengerId  Survived  Pclass  \\\n",
       "0            1         0       3   \n",
       "1            2         1       1   \n",
       "2            3         1       3   \n",
       "3            4         1       1   \n",
       "4            5         0       3   \n",
       "\n",
       "                                                Name     Sex  Age  SibSp  \\\n",
       "0                            Braund, Mr. Owen Harris    male   22      1   \n",
       "1  Cumings, Mrs. John Bradley (Florence Briggs Th...  female   38      1   \n",
       "2                             Heikkinen, Miss. Laina  female   26      0   \n",
       "3       Futrelle, Mrs. Jacques Heath (Lily May Peel)  female   35      1   \n",
       "4                           Allen, Mr. William Henry    male   35      0   \n",
       "\n",
       "   Parch            Ticket     Fare Cabin Embarked  \n",
       "0      0         A/5 21171   7.2500   NaN        S  \n",
       "1      0          PC 17599  71.2833   C85        C  \n",
       "2      0  STON/O2. 3101282   7.9250   NaN        S  \n",
       "3      0            113803  53.1000  C123        S  \n",
       "4      0            373450   8.0500   NaN        S  "
      ]
     },
     "execution_count": 119,
     "metadata": {},
     "output_type": "execute_result"
    }
   ],
   "source": [
    "# Take an overview look at the new dataframe\n",
    "print(df.columns)\n",
    "df.head()"
   ]
  },
  {
   "cell_type": "markdown",
   "metadata": {},
   "source": [
    "Since I'm exploring the likelihood of survival, I don't want to look just at the raw values in the \n",
    "\"Survived\" column. I'd like to calculate the *proportion* that survived among all passengers in the \n",
    "sample. How could I do this? Well, since a 1 in the \"Survived\" column indicates the passenger survived, summing up the 1's would\n",
    "give me the number of survivors; and, dividing the survival sum by the count of all rows in the column (the length\n",
    "of the \"Survived\" column) will calculate the proportion who survived.\n",
    "\n",
    "The proportion can be calculated over the DataFrame as a whole, or by a specific value or set of values\n",
    "within a column or over multiple columns. This flexibility will allow me to filter the data by certain\n",
    "conditions and then calculate the survival proportion for the filtered rows."
   ]
  },
  {
   "cell_type": "code",
   "execution_count": 120,
   "metadata": {
    "collapsed": false,
    "scrolled": false
   },
   "outputs": [
    {
     "name": "stdout",
     "output_type": "stream",
     "text": [
      "Among all passengers, the proportion that survived was 0.3838383838383838\n",
      "Among female passengers, the proportion that survived was 0.7420382165605095\n"
     ]
    }
   ],
   "source": [
    "# Overall survival\n",
    "total_surv_propn = (df.sum()/df.count())['Survived']\n",
    "\n",
    "# Survival proportion for a single column -- \n",
    "# Sex, for example, since it only has two possible values\n",
    "fem_surv_propn = \\\n",
    "    df[df.Sex=='female']['Survived'].astype(float).sum() / df[df.Sex=='female']['Survived'].count()\n",
    "\n",
    "print('Among all passengers, the proportion that survived was {}'.format(total_surv_propn))\n",
    "print('Among female passengers, the proportion that survived was {}'.format(fem_surv_propn))"
   ]
  },
  {
   "cell_type": "markdown",
   "metadata": {
    "collapsed": true
   },
   "source": [
    "  \n",
    "In looking for factors that affected survival rates, there are several columns of data that could be chosen. This project will explore three columns of particular interest: \"Sex\", \"Pclass\", and \"Age\". Why I chose these three will become apparent as I wrangle and explore each of them, in turn.\n",
    "\n",
    "I will explore these variables individually as they relate to survival, first. And then I will explore two or more of the variables together in order to analyze their combined effect on survival.\n",
    "\n",
    "_Dependent Variable_: __Survived__\n",
    "\n",
    "_Independent Variables_: __Sex, Pclass, Age__\n",
    "\n",
    "But first, since the code was lengthy that I just wrote for calculating the survival proportion, and it will be called upon multiple times throughout the project, I will put it in function form."
   ]
  },
  {
   "cell_type": "code",
   "execution_count": 121,
   "metadata": {
    "collapsed": true,
    "scrolled": false
   },
   "outputs": [],
   "source": [
    "# Functions: Calculate the proportion of survivors\n",
    "\n",
    "def conditional_survival(data):\n",
    "    '''\n",
    "    data: a dataframe, filtered by conditions;\n",
    "          can be whole column if column values \n",
    "          are expressed as a condition -- e.g., \n",
    "          df[df.Age>0] or df[df.Cabin.notnull()]\n",
    "    Returns: <float> proportion that survived\n",
    "    Usage examples: \n",
    "      conditional_survival(df[(df.Sex == 'female')])\n",
    "      conditional_survival(df[(df.Age <= '12') & (df.Pclass == 1)])\n",
    "    '''\n",
    "    return (data.sum()/data.count())['Survived']\n",
    "\n",
    "\n",
    "def survival_group(data, col):\n",
    "    '''\n",
    "    data: a dataframe\n",
    "    col:  which column(s) to group the data by; \n",
    "          to group by more than 1 column, this arg should be a list\n",
    "    Returns: <float> proportion survived per group or subgroup\n",
    "    Usage example:\n",
    "        survival_group(df, 'Pclass')\n",
    "    '''\n",
    "    return data.groupby(col)['Survived'].sum()/data.groupby(col)['Survived'].count()"
   ]
  },
  {
   "cell_type": "markdown",
   "metadata": {},
   "source": [
    "****\n",
    "\n",
    "## Exploring the Factors"
   ]
  },
  {
   "cell_type": "markdown",
   "metadata": {
    "collapsed": true
   },
   "source": [
    "### Variable: Sex"
   ]
  },
  {
   "cell_type": "code",
   "execution_count": 122,
   "metadata": {
    "collapsed": false,
    "scrolled": false
   },
   "outputs": [
    {
     "name": "stdout",
     "output_type": "stream",
     "text": [
      "False\n"
     ]
    }
   ],
   "source": [
    "# Any missing data in the Sex column?\n",
    "print(df['Sex'].hasnans)"
   ]
  },
  {
   "cell_type": "code",
   "execution_count": 123,
   "metadata": {
    "collapsed": false,
    "scrolled": false
   },
   "outputs": [
    {
     "data": {
      "text/plain": [
       "male      577\n",
       "female    314\n",
       "Name: Sex, dtype: int64"
      ]
     },
     "execution_count": 123,
     "metadata": {},
     "output_type": "execute_result"
    }
   ],
   "source": [
    "# Passengers by Sex\n",
    "df['Sex'].value_counts()"
   ]
  },
  {
   "cell_type": "raw",
   "metadata": {},
   "source": [
    "577 male passengers (64.8%)  \n",
    "314 female passengers (35.2%)"
   ]
  },
  {
   "cell_type": "code",
   "execution_count": 124,
   "metadata": {
    "collapsed": false
   },
   "outputs": [
    {
     "data": {
      "image/png": "[encoded data removed]",
      "text/plain": [
       "<matplotlib.figure.Figure at 0xa94c940>"
      ]
     },
     "metadata": {},
     "output_type": "display_data"
    }
   ],
   "source": [
    "# Pie chart percentage of passengers by Sex\n",
    "\n",
    "# input data\n",
    "x = df['Sex'].value_counts()\n",
    "\n",
    "# plot\n",
    "plt.pie(x, colors=['c', 'm'], labels=['males', 'females'], autopct='%1.1f%%')\n",
    "plt.axis('equal')  # prevent pie from looking tilted\n",
    "plt.title('Gender composition of All Passengers (per cent)\\n')\n",
    "plt.show()"
   ]
  },
  {
   "cell_type": "code",
   "execution_count": 125,
   "metadata": {
    "collapsed": false,
    "scrolled": false
   },
   "outputs": [
    {
     "name": "stdout",
     "output_type": "stream",
     "text": [
      "Number of survivors by sex\n",
      "female    233\n",
      "male      109\n",
      "Name: Sex, dtype: int64 \n",
      "\n",
      "Proportion of survivors, female: 0.681\n",
      "Proportion of survivors, male:   0.319\n",
      "\n"
     ]
    },
    {
     "data": {
      "image/png": "[encoded data removed]",
      "text/plain": [
       "<matplotlib.figure.Figure at 0xa971e48>"
      ]
     },
     "metadata": {},
     "output_type": "display_data"
    }
   ],
   "source": [
    "# Number of survivors\n",
    "survivors = df[df.Survived==1]\n",
    "# Survivors by sex\n",
    "print('Number of survivors by sex')\n",
    "print(survivors['Sex'].value_counts(), '\\n')\n",
    "f_surv = survivors[survivors['Sex']=='female'].count()['PassengerId'].astype(float) / len(survivors)\n",
    "print('Proportion of survivors, female: %.3f' % f_surv)\n",
    "m_surv = survivors[survivors['Sex']=='male'].count()['PassengerId'].astype(float) / len(survivors)\n",
    "print('Proportion of survivors, male:   %.3f\\n' % m_surv)\n",
    "# Plot survival proportions by sex\n",
    "s = pd.Series([m_surv, f_surv]) #, name = 'Survivors by Sex')\n",
    "#sbsex.plot(kind='pie', autopct='%.1f', fontsize=13, figsize=(5, 5), \n",
    "#                                 labels=['female % of survivors', 'male % of survivors'], \n",
    "#                                 colors=['m', 'c'])\n",
    "#show()\n",
    "plt.pie(s, colors=['c','m'], labels=['males','females'], startangle=90, autopct='%1.1f%%')\n",
    "plt.axis('equal')\n",
    "plt.title('Gender composition of Survivors (per cent)\\n')\n",
    "plt.show()"
   ]
  },
  {
   "cell_type": "markdown",
   "metadata": {},
   "source": [
    "The gender composition of the survivors group is slightly different than the likelihood of survival among all."
   ]
  },
  {
   "cell_type": "code",
   "execution_count": 126,
   "metadata": {
    "collapsed": false,
    "scrolled": true
   },
   "outputs": [
    {
     "data": {
      "text/html": [
       "<div>\n",
       "<table border=\"1\" class=\"dataframe\">\n",
       "  <thead>\n",
       "    <tr style=\"text-align: right;\">\n",
       "      <th></th>\n",
       "      <th>Survived</th>\n",
       "      <th>Perished</th>\n",
       "    </tr>\n",
       "  </thead>\n",
       "  <tbody>\n",
       "    <tr>\n",
       "      <th>Females</th>\n",
       "      <td>0.742038</td>\n",
       "      <td>0.257962</td>\n",
       "    </tr>\n",
       "    <tr>\n",
       "      <th>Males</th>\n",
       "      <td>0.188908</td>\n",
       "      <td>0.811092</td>\n",
       "    </tr>\n",
       "  </tbody>\n",
       "</table>\n",
       "</div>"
      ],
      "text/plain": [
       "         Survived  Perished\n",
       "Females  0.742038  0.257962\n",
       "Males    0.188908  0.811092"
      ]
     },
     "execution_count": 126,
     "metadata": {},
     "output_type": "execute_result"
    }
   ],
   "source": [
    "# Proportion who survived, by sex\n",
    "\n",
    "# Female survival proportions\n",
    "fs_propn = conditional_survival(df[df.Sex=='female'])  \n",
    "seriesF = pd.Series([fs_propn, 1 - fs_propn], index=['Survived', 'Perished'], name='Females')\n",
    "\n",
    "# Male survival proportions\n",
    "ms_propn = conditional_survival(df[df.Sex=='male'])  \n",
    "seriesM = pd.Series([ms_propn, 1 - ms_propn], index=['Survived', 'Perished'], name='Males')\n",
    "\n",
    "# Combine F and M survival series into single DataFrame\n",
    "surv_by_sex = pd.DataFrame([seriesF, seriesM])\n",
    "surv_by_sex"
   ]
  },
  {
   "cell_type": "code",
   "execution_count": 127,
   "metadata": {
    "collapsed": false,
    "scrolled": false
   },
   "outputs": [
    {
     "data": {
      "image/png": "[encoded data removed]",
      "text/plain": [
       "<matplotlib.figure.Figure at 0xa94c630>"
      ]
     },
     "metadata": {},
     "output_type": "display_data"
    }
   ],
   "source": [
    "# Pie charts of female survival and male survival.\n",
    "surv_by_sex.T.plot.pie(subplots=True, autopct='%1.1f%%', colors=['green','gray'], legend=False, \n",
    "                       title='Survival rates within gender', fontsize=12, figsize=(11,5))\n",
    "show()"
   ]
  },
  {
   "cell_type": "markdown",
   "metadata": {},
   "source": [
    "__*Tentative Conclusions: Sex*__\n",
    "\n",
    "Sex was a strong factor in the likelihood of surviving. About three-quarters of females survived, while less than one-in-five males survived. All else being equal, females had a 74% chance of surviving, and males had a 19% chance of surviving.\n",
    "\n",
    "Females were approximately 35%, and males 65%, of all passengers in the entire sample. But among those who survived, approximately 68% were female, 32% male. The percentages are nearly reversed. Sex appears to be a notable feature of survivors."
   ]
  },
  {
   "cell_type": "markdown",
   "metadata": {
    "collapsed": true
   },
   "source": [
    "### Variable: Passenger Class (\"Pclass\")"
   ]
  },
  {
   "cell_type": "code",
   "execution_count": 128,
   "metadata": {
    "collapsed": false,
    "scrolled": false
   },
   "outputs": [
    {
     "name": "stdout",
     "output_type": "stream",
     "text": [
      "False\n"
     ]
    }
   ],
   "source": [
    "# Any missing data?\n",
    "print(df['Pclass'].hasnans)"
   ]
  },
  {
   "cell_type": "code",
   "execution_count": 129,
   "metadata": {
    "collapsed": false,
    "scrolled": false
   },
   "outputs": [
    {
     "data": {
      "text/plain": [
       "Pclass\n",
       "1    216\n",
       "2    184\n",
       "3    491\n",
       "Name: PassengerId, dtype: int64"
      ]
     },
     "execution_count": 129,
     "metadata": {},
     "output_type": "execute_result"
    }
   ],
   "source": [
    "# Number of passengers per Pclass\n",
    "df.groupby('Pclass')['PassengerId'].count()"
   ]
  },
  {
   "cell_type": "code",
   "execution_count": 130,
   "metadata": {
    "collapsed": false,
    "scrolled": false
   },
   "outputs": [
    {
     "data": {
      "text/plain": [
       "Pclass\n",
       "1    136\n",
       "2     87\n",
       "3    119\n",
       "Name: Survived, dtype: int64"
      ]
     },
     "execution_count": 130,
     "metadata": {},
     "output_type": "execute_result"
    }
   ],
   "source": [
    "# Number who survived per Pclass\n",
    "df.groupby('Pclass')['Survived'].sum()"
   ]
  },
  {
   "cell_type": "code",
   "execution_count": 131,
   "metadata": {
    "collapsed": false,
    "scrolled": false
   },
   "outputs": [
    {
     "data": {
      "text/html": [
       "<div>\n",
       "<table border=\"1\" class=\"dataframe\">\n",
       "  <thead>\n",
       "    <tr style=\"text-align: right;\">\n",
       "      <th></th>\n",
       "      <th>Survived</th>\n",
       "    </tr>\n",
       "    <tr>\n",
       "      <th>Pclass</th>\n",
       "      <th></th>\n",
       "    </tr>\n",
       "  </thead>\n",
       "  <tbody>\n",
       "    <tr>\n",
       "      <th>1</th>\n",
       "      <td>0.629630</td>\n",
       "    </tr>\n",
       "    <tr>\n",
       "      <th>2</th>\n",
       "      <td>0.472826</td>\n",
       "    </tr>\n",
       "    <tr>\n",
       "      <th>3</th>\n",
       "      <td>0.242363</td>\n",
       "    </tr>\n",
       "  </tbody>\n",
       "</table>\n",
       "</div>"
      ],
      "text/plain": [
       "        Survived\n",
       "Pclass          \n",
       "1       0.629630\n",
       "2       0.472826\n",
       "3       0.242363"
      ]
     },
     "execution_count": 131,
     "metadata": {},
     "output_type": "execute_result"
    }
   ],
   "source": [
    "# Proportion of survivors in each Pclass\n",
    "pclass_surv = pd.DataFrame(survival_group(df, 'Pclass'))\n",
    "pclass_surv"
   ]
  },
  {
   "cell_type": "markdown",
   "metadata": {},
   "source": [
    "So, in this sample, the percentage who survived per Pclass is:\n",
    "\n",
    "1st Class: 62.9%<br>\n",
    "2nd Class: 47.3%<br>\n",
    "3rd Class: 24.2%"
   ]
  },
  {
   "cell_type": "code",
   "execution_count": 132,
   "metadata": {
    "collapsed": false,
    "scrolled": false
   },
   "outputs": [
    {
     "data": {
      "image/png": "[encoded data removed]",
      "text/plain": [
       "<matplotlib.figure.Figure at 0x97b6f28>"
      ]
     },
     "metadata": {},
     "output_type": "display_data"
    }
   ],
   "source": [
    "# List of survival proportion for each pclass\n",
    "pclass_values = [c[0] for c in pclass_surv.values]\n",
    "\n",
    "# Plot\n",
    "# set up bars and grid\n",
    "pclass_labels = ['1st Class', '2nd Class', '3rd Class']  # bar labels\n",
    "x_pos = list(range(3))  # x position of bars\n",
    "plt.bar(x_pos, pclass_values, width=3/4, align='center', color=['green','blue','red'])\n",
    "plt.grid()\n",
    "plt.ylim(0.0, 1.0)  # set y-axis limits\n",
    "\n",
    "# set axes labels and title\n",
    "plt.ylabel('Proportion survived')\n",
    "plt.xticks(x_pos, pclass_labels)\n",
    "plt.title('Survival Rate by Pclass')\n",
    "\n",
    "plt.show()"
   ]
  },
  {
   "cell_type": "markdown",
   "metadata": {},
   "source": [
    "__*Tentative Conclusions: Pclass*__\n",
    "\n",
    "Survival rates appear to be related to passenger class. 1st Class passengers had a better than 0.5 likelihood of survival -- about 5 out of 8 survived. Just under half of the 2nd Class passengers survived. Only about 1-in-4 3rd class passengers survived.\n",
    "\n",
    "The higher the passenger class, the greater the proportion of survivors within that class."
   ]
  },
  {
   "cell_type": "markdown",
   "metadata": {},
   "source": [
    "### Variable: Age"
   ]
  },
  {
   "cell_type": "markdown",
   "metadata": {},
   "source": [
    "Age statistics  "
   ]
  },
  {
   "cell_type": "code",
   "execution_count": 133,
   "metadata": {
    "collapsed": false,
    "scrolled": false
   },
   "outputs": [
    {
     "data": {
      "text/plain": [
       "count    714.000000\n",
       "mean      29.699118\n",
       "std       14.526497\n",
       "min        0.420000\n",
       "25%       20.125000\n",
       "50%       28.000000\n",
       "75%       38.000000\n",
       "max       80.000000\n",
       "Name: Age, dtype: float64"
      ]
     },
     "execution_count": 133,
     "metadata": {},
     "output_type": "execute_result"
    }
   ],
   "source": [
    "# Descriptive statistics for the \"Age\" column\n",
    "df['Age'].describe()"
   ]
  },
  {
   "cell_type": "markdown",
   "metadata": {},
   "source": [
    "What were the most common ages of passengers?"
   ]
  },
  {
   "cell_type": "code",
   "execution_count": 134,
   "metadata": {
    "collapsed": false,
    "scrolled": false
   },
   "outputs": [
    {
     "name": "stdout",
     "output_type": "stream",
     "text": [
      "0    24\n",
      "dtype: float64\n",
      "24    30\n",
      "22    27\n",
      "18    26\n",
      "19    25\n",
      "28    25\n",
      "30    25\n",
      "21    24\n",
      "25    23\n",
      "36    22\n",
      "29    20\n",
      "Name: Age, dtype: int64\n"
     ]
    }
   ],
   "source": [
    "print(df['Age'].mode())\n",
    "print(df.Age.value_counts().iloc[:10])"
   ]
  },
  {
   "cell_type": "markdown",
   "metadata": {},
   "source": [
    "The sample's mean age is under 30. The median age is 28. Half of the passengers were between ages 20 and 38. The most common age is 24, and the top ten most common ages lie between 18 and 36.\n",
    "\n",
    "A much larger number of the Titanic's passengers were young adults than I would have presumed.\n"
   ]
  },
  {
   "cell_type": "code",
   "execution_count": 135,
   "metadata": {
    "collapsed": false,
    "scrolled": false
   },
   "outputs": [
    {
     "data": {
      "text/plain": [
       "True"
      ]
     },
     "execution_count": 135,
     "metadata": {},
     "output_type": "execute_result"
    }
   ],
   "source": [
    "# Any null values in the Age column?\n",
    "df.Age.hasnans"
   ]
  },
  {
   "cell_type": "code",
   "execution_count": 136,
   "metadata": {
    "collapsed": false,
    "scrolled": false
   },
   "outputs": [
    {
     "data": {
      "image/png": "[encoded data removed]",
      "text/plain": [
       "<matplotlib.figure.Figure at 0x8dcaf28>"
      ]
     },
     "metadata": {},
     "output_type": "display_data"
    }
   ],
   "source": [
    "# frequency histogram of ages\n",
    "\n",
    "# input data\n",
    "x = df.Age.dropna()\n",
    "\n",
    "# plot\n",
    "plt.hist(x, bins=12)\n",
    "\n",
    "# labels\n",
    "plt.xlabel('Age')\n",
    "plt.ylabel('Number of Passengers')\n",
    "plt.title('Distribution of Passengers by Age\\n')\n",
    "\n",
    "plt.show()"
   ]
  },
  {
   "cell_type": "markdown",
   "metadata": {},
   "source": [
    "The distribution of ages is positively skewed. So, the passengers were mostly adults. And, as stated already, the adults most were young adults.  <p>\n"
   ]
  },
  {
   "cell_type": "markdown",
   "metadata": {},
   "source": [
    "  \n",
    "_Question_: At what age does the proportion that survived dip below 0.5?"
   ]
  },
  {
   "cell_type": "code",
   "execution_count": 137,
   "metadata": {
    "collapsed": false,
    "scrolled": false
   },
   "outputs": [
    {
     "name": "stdout",
     "output_type": "stream",
     "text": [
      "0.503597122302\n",
      "0.382608695652\n"
     ]
    }
   ],
   "source": [
    "# Call the ``conditional_survival`` function on a variety of ages below\n",
    "# the mean until finding which age was the closest to 0.5 survival\n",
    "\n",
    "age = 18\n",
    "\n",
    "print(conditional_survival(df[df['Age'] <= age]))\n",
    "print(conditional_survival(df[df['Age'] > age]))"
   ]
  },
  {
   "cell_type": "markdown",
   "metadata": {},
   "source": [
    "Just over half the passengers under age 18 survived. Above age 18, the proportion who survived was nearly the same as that of all passengers of all ages.\n",
    "\n",
    "If I were comparing only Age to the likelihood of survival (and no other variables such as Sex or Pclass), then I would use only two age groups, 0-18 and 18+. But, because later on I'm going to look at Age in conjunction with Pclass and Sex, I need to have as many rows with data in the Age column as there are in the other two variables' columns."
   ]
  },
  {
   "cell_type": "markdown",
   "metadata": {},
   "source": [
    "Unlike Sex and Pclass, there are values missing from the Age column.  "
   ]
  },
  {
   "cell_type": "code",
   "execution_count": 138,
   "metadata": {
    "collapsed": false,
    "scrolled": true
   },
   "outputs": [
    {
     "data": {
      "text/plain": [
       "177"
      ]
     },
     "execution_count": 138,
     "metadata": {},
     "output_type": "execute_result"
    }
   ],
   "source": [
    "# How many missing Ages?\n",
    "# (count on \"Name\" column because it has no NaNs -- the count will be complete)\n",
    "df[df['Age'].isnull()==True]['Name'].count()"
   ]
  },
  {
   "cell_type": "markdown",
   "metadata": {},
   "source": [
    "We are missing age values for 177 passengers. That's a lot.\n",
    "\n",
    "I'd like to fill in the missing ages with some kind of estimated age. I could fill the NaNs with a mean or median age, but since age has a standard deviation of 14.5 years -- half the mean. When I fill in the missing ages, I might want to account for that variability in age in some cases, not always using a singular value such as the mean or median.\n",
    "\n",
    "I decided to look at the titles by which passengers were addressed as a way of estimating the missing ages. By titles, I mean the prefix of their names -- Mrs., Mr., Miss, Master. I chose this approach after noticing that \"Master\" was how underage boys were addressed."
   ]
  },
  {
   "cell_type": "code",
   "execution_count": 139,
   "metadata": {
    "collapsed": false,
    "scrolled": false
   },
   "outputs": [
    {
     "name": "stdout",
     "output_type": "stream",
     "text": [
      "517 Mr`s\n",
      "Age stats for \"Mr.\" (lower count due to missing ages)\n",
      "count    398.000000\n",
      "mean      32.368090\n",
      "std       12.708793\n",
      "min       11.000000\n",
      "25%       23.000000\n",
      "50%       30.000000\n",
      "75%       39.000000\n",
      "max       80.000000\n",
      "Name: Age, dtype: float64 \n",
      "*********\n",
      "\n",
      "129 Mrs`s\n",
      "Age stats for \"Mrs.\" (lower count due to missing ages)\n",
      "count    108.000000\n",
      "mean      35.898148\n",
      "std       11.433628\n",
      "min       14.000000\n",
      "25%       27.750000\n",
      "50%       35.000000\n",
      "75%       44.000000\n",
      "max       63.000000\n",
      "Name: Age, dtype: float64\n",
      "4 Mrs under 18\n",
      "*********\n",
      "\n",
      "40 Master`s\n",
      "Age stats for \"Master\" (lower count due to missing ages)\n",
      "count    36.000000\n",
      "mean      4.574167\n",
      "std       3.619872\n",
      "min       0.420000\n",
      "25%       1.000000\n",
      "50%       3.500000\n",
      "75%       8.000000\n",
      "max      12.000000\n",
      "Name: Age, dtype: float64 \n",
      "*********\n",
      "\n",
      "182 Miss`s\n",
      "Age stats for \"Miss\" (lower count due to missing ages)\n",
      "count    146.000000\n",
      "mean      21.773973\n",
      "std       12.990292\n",
      "min        0.750000\n",
      "10%        4.000000\n",
      "20%        9.000000\n",
      "30%       16.000000\n",
      "40%       18.000000\n",
      "50%       21.000000\n",
      "60%       23.000000\n",
      "70%       27.000000\n",
      "80%       31.000000\n",
      "90%       38.000000\n",
      "max       63.000000\n",
      "Name: Age, dtype: float64\n"
     ]
    }
   ],
   "source": [
    "# Exploring name prefix relationship to age...\n",
    "\n",
    "print(df[df['Name'].apply(lambda x: 'Mr.' in x)]['Name'].count(), 'Mr`s')\n",
    "print('Age stats for \"Mr.\" (lower count due to missing ages)')\n",
    "print(df[df['Name'].apply(lambda x: 'Mr.' in x)]['Age'].describe(), '\\n*********\\n')\n",
    "\n",
    "print(df[df['Name'].apply(lambda x: 'Mrs' in x)]['Name'].count(), 'Mrs`s')\n",
    "print('Age stats for \"Mrs.\" (lower count due to missing ages)')\n",
    "print(df[df['Name'].apply(lambda x: 'Mrs.' in x)]['Age'].describe())\n",
    "# how many \"underage\" Mrs?\n",
    "print(df[(df['Name'].apply(lambda x: 'Mrs.' in x)) & (df['Age']<18)]['Name'].count(), 'Mrs under 18\\n*********\\n')\n",
    "\n",
    "print(df[df['Name'].apply(lambda x: 'Master' in x)]['Name'].count(), 'Master`s')\n",
    "print('Age stats for \"Master\" (lower count due to missing ages)')\n",
    "print(df[df['Name'].apply(lambda x: 'Master' in x)]['Age'].describe(), '\\n*********\\n')\n",
    "\n",
    "print(df[df['Name'].apply(lambda x: 'Miss' in x)]['Name'].count(), 'Miss`s')\n",
    "print('Age stats for \"Miss\" (lower count due to missing ages)')\n",
    "print(df[df['Name'].apply(lambda x: 'Miss' in x)]['Age'].describe(percentiles=[.1,.2,.3,.4,.5,.6,.7,.8,.9]))\n",
    "\n",
    "# Note:\n",
    "# Two names included both \"Miss\" and \"Mrs\" in them and they therefore got double-counted.\n",
    "# (I discovered this by using FIND in MS Excel).\n",
    "# But neither passenger had a NaN age, so their ages don't need filling in."
   ]
  },
  {
   "cell_type": "markdown",
   "metadata": {},
   "source": [
    "Observations:<br>\n",
    "(from looking over these stats while cross-referencing the CSV data in MS Excel)\n",
    "\n",
    ">One man's title is not \"Mr.\" but \"Dr.\"; I'll assume he was a Mr.<br>\n",
    ">There are only 3 Mr's age 14 or under.<br>\n",
    ">The oldest \"Master\" is 12.<br>\n",
    ">There's 1 Mrs. aged 14 and only 4 under age 18 altogether.<br>\n",
    ">90% of the \"Misses\" were between ages 4 and 38<br>\n",
    "\n",
    "For the purpose of filling in missing Age values, I'll use the following guidelines:\n",
    ">I will assume that if Name contains \"Mr.\" or \"Mrs.\", its an adult<br>\n",
    ">If Name contains \"Master\", he is under age 14. (typically, \"Mr.\"'s were 14 and older)<br>\n",
    ">If Name contains \"Miss\", age is between 4 and 38, so a \"Miss\" could be a child *or* an adult (matters for binning)"
   ]
  },
  {
   "cell_type": "code",
   "execution_count": 140,
   "metadata": {
    "collapsed": false,
    "scrolled": false
   },
   "outputs": [
    {
     "data": {
      "text/plain": [
       "33.087254901960783"
      ]
     },
     "execution_count": 140,
     "metadata": {},
     "output_type": "execute_result"
    }
   ],
   "source": [
    "# Age stats of all Mr. and Mrs. passengers\n",
    "df[ df['Name'].str.contains('Mr. ') | df['Name'].str.contains('Mrs. ')]['Age'].mean()"
   ]
  },
  {
   "cell_type": "code",
   "execution_count": 141,
   "metadata": {
    "collapsed": false,
    "scrolled": false
   },
   "outputs": [
    {
     "name": "stdout",
     "output_type": "stream",
     "text": [
      "count    69.00000\n",
      "mean      4.77058\n",
      "std       3.39039\n",
      "min       0.42000\n",
      "25%       2.00000\n",
      "50%       4.00000\n",
      "75%       8.00000\n",
      "max      12.00000\n",
      "Name: Age, dtype: float64 \n",
      "\n",
      "count    398.000000\n",
      "mean      32.368090\n",
      "std       12.708793\n",
      "min       11.000000\n",
      "20%       21.000000\n",
      "40%       27.000000\n",
      "50%       30.000000\n",
      "60%       33.000000\n",
      "80%       42.000000\n",
      "max       80.000000\n",
      "Name: Age, dtype: float64\n"
     ]
    },
    {
     "data": {
      "text/plain": [
       "count    112.000000\n",
       "mean      35.642857\n",
       "std       11.506251\n",
       "min       14.000000\n",
       "20%       24.200000\n",
       "40%       31.000000\n",
       "50%       35.000000\n",
       "60%       39.000000\n",
       "80%       45.000000\n",
       "max       63.000000\n",
       "Name: Age, dtype: float64"
      ]
     },
     "execution_count": 141,
     "metadata": {},
     "output_type": "execute_result"
    }
   ],
   "source": [
    "# Examples of my exploration of the relationship of passengers Name prefix to their Ages\n",
    "\n",
    "# the oldest passenger called \"Master\" was 12, so \"Masters\" are <= Age 12\n",
    "print(df[df.Age <= 12]['Age'].describe(), '\\n')\n",
    "\n",
    "# only 1 'Mr' below age 14, so assume passenger is adult if Name contains \"Mr.\"\n",
    "print(df[df['Name'].apply(lambda x: 'Mr.' in x)]['Age'].describe(percentiles=[.2, .4, .6, .8]))\n",
    "\n",
    "# there's 1 age 14 & 1 age 15 \"Mrs\"; all other \"Mrs\"s are between ages 17 and 63.\n",
    "df[df['Name'].apply(lambda x: 'Mrs' in x)]['Age'].describe(percentiles=[.2, .4, .6, .8])"
   ]
  },
  {
   "cell_type": "code",
   "execution_count": 142,
   "metadata": {
    "collapsed": true,
    "scrolled": false
   },
   "outputs": [],
   "source": [
    "# Function for filling in NaN ages according to passenger's title\n",
    "\n",
    "import random as ran  # import as \"ran\" because pylab was \"clobbering\" the as-name \"random\"\n",
    "\n",
    "def infer_ages(nom):\n",
    "    '''nom: <string> Name of passenger\n",
    "       Return a number for age, depending on how passenger was addressed\n",
    "    '''\n",
    "    if 'Master' in nom:\n",
    "        return 4.6   # mean of Masters' of known ages\n",
    "    if 'Mr.' in nom or 'Mrs.' in nom or 'Dr.' in nom:\n",
    "        return 33.1  # mean of Mr's and Mrs' of known ages\n",
    "    if 'Miss' in nom:\n",
    "        return ran.randrange(4, 39)  # A \"Miss\" might be a child or an adult"
   ]
  },
  {
   "cell_type": "code",
   "execution_count": 143,
   "metadata": {
    "collapsed": true
   },
   "outputs": [],
   "source": [
    "# Create a new column, \"Age_Guess\", and fill in ages based on infer_ages function\n",
    "# Filling in ages only for rows where \"Age\" is NaN.\n",
    "df['Age_Guess'] = df[df['Age'].isnull()]['Name'].apply(infer_ages)"
   ]
  },
  {
   "cell_type": "code",
   "execution_count": 144,
   "metadata": {
    "collapsed": false,
    "scrolled": false
   },
   "outputs": [
    {
     "name": "stdout",
     "output_type": "stream",
     "text": [
      "Passengers with missing ages filled in:\n",
      "    Age  Age_Guess  Ages_All                           Name\n",
      "5   NaN       33.1      33.1               Moran, Mr. James\n",
      "17  NaN       33.1      33.1   Williams, Mr. Charles Eugene\n",
      "19  NaN       33.1      33.1        Masselmani, Mrs. Fatima\n",
      "26  NaN       33.1      33.1        Emir, Mr. Farred Chehab\n",
      "28  NaN        5.0       5.0  O'Dwyer, Miss. Ellen \"Nellie\"\n",
      "\n",
      "Passengers with ages copied to Ages_All:\n",
      "   Age  Age_Guess  Ages_All                                          Name\n",
      "2   26        NaN        26                        Heikkinen, Miss. Laina\n",
      "3   35        NaN        35  Futrelle, Mrs. Jacques Heath (Lily May Peel)\n",
      "4   35        NaN        35                      Allen, Mr. William Henry\n",
      "6   54        NaN        54                       McCarthy, Mr. Timothy J\n",
      "7    2        NaN         2                Palsson, Master. Gosta Leonard\n"
     ]
    }
   ],
   "source": [
    "# Merge original \"Age\" column with \"Age_Guess\" column into a single NaN-less column\n",
    "\n",
    "# Use a copy of Age, in order to preserve the original 'Age' column\n",
    "df['Ages_All'] = df['Age']\n",
    "\n",
    "# Use 'Age_Guess' to fill missing values\n",
    "df['Ages_All'] = df['Age'].fillna(df['Age_Guess'])\n",
    "\n",
    "# Dov's way (give attribution\\credit) FROM KAGGLE ###\n",
    "print('Passengers with missing ages filled in:')\n",
    "print(df[['Age', 'Age_Guess', 'Ages_All', 'Name']][df.Age.isnull()].head())\n",
    "print('\\nPassengers with ages copied to Ages_All:')\n",
    "print(df[['Age', 'Age_Guess', 'Ages_All', 'Name']][df.Age>0].ix[2:7]) # use ix, not head, so names don't carry over"
   ]
  },
  {
   "cell_type": "code",
   "execution_count": 145,
   "metadata": {
    "collapsed": false,
    "scrolled": true
   },
   "outputs": [
    {
     "data": {
      "text/plain": [
       "False"
      ]
     },
     "execution_count": 145,
     "metadata": {},
     "output_type": "execute_result"
    }
   ],
   "source": [
    "df['Ages_All'].hasnans"
   ]
  },
  {
   "cell_type": "markdown",
   "metadata": {},
   "source": [
    "Looking at likelihood of survival for each and every unique age might be overkill. Maybe I can generalize it. I did some reading of tutorials over at Kaggle and saw how some users binned the multiple number of Fare values. Inspired by this, I'd like to bin the ages into age groups. (_see References list at end of report for credits_)\n",
    "\n",
    "I decided to create three bins for a new \"Age Group\" column:\n",
    "\n",
    ">__|__ `\"child\"` __|__ `\"adult\"` __|__ `\"elder\"` __|__"
   ]
  },
  {
   "cell_type": "code",
   "execution_count": 146,
   "metadata": {
    "collapsed": false,
    "scrolled": false
   },
   "outputs": [
    {
     "data": {
      "text/html": [
       "<div>\n",
       "<table border=\"1\" class=\"dataframe\">\n",
       "  <thead>\n",
       "    <tr style=\"text-align: right;\">\n",
       "      <th></th>\n",
       "      <th>PassengerId</th>\n",
       "      <th>Sex</th>\n",
       "      <th>Ages_All</th>\n",
       "      <th>Age_Group</th>\n",
       "    </tr>\n",
       "  </thead>\n",
       "  <tbody>\n",
       "    <tr>\n",
       "      <th>0</th>\n",
       "      <td>1</td>\n",
       "      <td>male</td>\n",
       "      <td>22.0</td>\n",
       "      <td>adult</td>\n",
       "    </tr>\n",
       "    <tr>\n",
       "      <th>1</th>\n",
       "      <td>2</td>\n",
       "      <td>female</td>\n",
       "      <td>38.0</td>\n",
       "      <td>adult</td>\n",
       "    </tr>\n",
       "    <tr>\n",
       "      <th>2</th>\n",
       "      <td>3</td>\n",
       "      <td>female</td>\n",
       "      <td>26.0</td>\n",
       "      <td>adult</td>\n",
       "    </tr>\n",
       "    <tr>\n",
       "      <th>3</th>\n",
       "      <td>4</td>\n",
       "      <td>female</td>\n",
       "      <td>35.0</td>\n",
       "      <td>adult</td>\n",
       "    </tr>\n",
       "    <tr>\n",
       "      <th>4</th>\n",
       "      <td>5</td>\n",
       "      <td>male</td>\n",
       "      <td>35.0</td>\n",
       "      <td>adult</td>\n",
       "    </tr>\n",
       "    <tr>\n",
       "      <th>5</th>\n",
       "      <td>6</td>\n",
       "      <td>male</td>\n",
       "      <td>33.1</td>\n",
       "      <td>adult</td>\n",
       "    </tr>\n",
       "    <tr>\n",
       "      <th>6</th>\n",
       "      <td>7</td>\n",
       "      <td>male</td>\n",
       "      <td>54.0</td>\n",
       "      <td>adult</td>\n",
       "    </tr>\n",
       "    <tr>\n",
       "      <th>7</th>\n",
       "      <td>8</td>\n",
       "      <td>male</td>\n",
       "      <td>2.0</td>\n",
       "      <td>child</td>\n",
       "    </tr>\n",
       "    <tr>\n",
       "      <th>8</th>\n",
       "      <td>9</td>\n",
       "      <td>female</td>\n",
       "      <td>27.0</td>\n",
       "      <td>adult</td>\n",
       "    </tr>\n",
       "    <tr>\n",
       "      <th>9</th>\n",
       "      <td>10</td>\n",
       "      <td>female</td>\n",
       "      <td>14.0</td>\n",
       "      <td>child</td>\n",
       "    </tr>\n",
       "    <tr>\n",
       "      <th>10</th>\n",
       "      <td>11</td>\n",
       "      <td>female</td>\n",
       "      <td>4.0</td>\n",
       "      <td>child</td>\n",
       "    </tr>\n",
       "    <tr>\n",
       "      <th>11</th>\n",
       "      <td>12</td>\n",
       "      <td>female</td>\n",
       "      <td>58.0</td>\n",
       "      <td>adult</td>\n",
       "    </tr>\n",
       "    <tr>\n",
       "      <th>12</th>\n",
       "      <td>13</td>\n",
       "      <td>male</td>\n",
       "      <td>20.0</td>\n",
       "      <td>adult</td>\n",
       "    </tr>\n",
       "    <tr>\n",
       "      <th>13</th>\n",
       "      <td>14</td>\n",
       "      <td>male</td>\n",
       "      <td>39.0</td>\n",
       "      <td>adult</td>\n",
       "    </tr>\n",
       "    <tr>\n",
       "      <th>14</th>\n",
       "      <td>15</td>\n",
       "      <td>female</td>\n",
       "      <td>14.0</td>\n",
       "      <td>child</td>\n",
       "    </tr>\n",
       "    <tr>\n",
       "      <th>15</th>\n",
       "      <td>16</td>\n",
       "      <td>female</td>\n",
       "      <td>55.0</td>\n",
       "      <td>adult</td>\n",
       "    </tr>\n",
       "    <tr>\n",
       "      <th>16</th>\n",
       "      <td>17</td>\n",
       "      <td>male</td>\n",
       "      <td>2.0</td>\n",
       "      <td>child</td>\n",
       "    </tr>\n",
       "    <tr>\n",
       "      <th>17</th>\n",
       "      <td>18</td>\n",
       "      <td>male</td>\n",
       "      <td>33.1</td>\n",
       "      <td>adult</td>\n",
       "    </tr>\n",
       "    <tr>\n",
       "      <th>18</th>\n",
       "      <td>19</td>\n",
       "      <td>female</td>\n",
       "      <td>31.0</td>\n",
       "      <td>adult</td>\n",
       "    </tr>\n",
       "    <tr>\n",
       "      <th>19</th>\n",
       "      <td>20</td>\n",
       "      <td>female</td>\n",
       "      <td>33.1</td>\n",
       "      <td>adult</td>\n",
       "    </tr>\n",
       "    <tr>\n",
       "      <th>20</th>\n",
       "      <td>21</td>\n",
       "      <td>male</td>\n",
       "      <td>35.0</td>\n",
       "      <td>adult</td>\n",
       "    </tr>\n",
       "    <tr>\n",
       "      <th>21</th>\n",
       "      <td>22</td>\n",
       "      <td>male</td>\n",
       "      <td>34.0</td>\n",
       "      <td>adult</td>\n",
       "    </tr>\n",
       "    <tr>\n",
       "      <th>22</th>\n",
       "      <td>23</td>\n",
       "      <td>female</td>\n",
       "      <td>15.0</td>\n",
       "      <td>adult</td>\n",
       "    </tr>\n",
       "    <tr>\n",
       "      <th>23</th>\n",
       "      <td>24</td>\n",
       "      <td>male</td>\n",
       "      <td>28.0</td>\n",
       "      <td>adult</td>\n",
       "    </tr>\n",
       "    <tr>\n",
       "      <th>24</th>\n",
       "      <td>25</td>\n",
       "      <td>female</td>\n",
       "      <td>8.0</td>\n",
       "      <td>child</td>\n",
       "    </tr>\n",
       "    <tr>\n",
       "      <th>25</th>\n",
       "      <td>26</td>\n",
       "      <td>female</td>\n",
       "      <td>38.0</td>\n",
       "      <td>adult</td>\n",
       "    </tr>\n",
       "    <tr>\n",
       "      <th>26</th>\n",
       "      <td>27</td>\n",
       "      <td>male</td>\n",
       "      <td>33.1</td>\n",
       "      <td>adult</td>\n",
       "    </tr>\n",
       "    <tr>\n",
       "      <th>27</th>\n",
       "      <td>28</td>\n",
       "      <td>male</td>\n",
       "      <td>19.0</td>\n",
       "      <td>adult</td>\n",
       "    </tr>\n",
       "    <tr>\n",
       "      <th>28</th>\n",
       "      <td>29</td>\n",
       "      <td>female</td>\n",
       "      <td>5.0</td>\n",
       "      <td>child</td>\n",
       "    </tr>\n",
       "    <tr>\n",
       "      <th>29</th>\n",
       "      <td>30</td>\n",
       "      <td>male</td>\n",
       "      <td>33.1</td>\n",
       "      <td>adult</td>\n",
       "    </tr>\n",
       "    <tr>\n",
       "      <th>30</th>\n",
       "      <td>31</td>\n",
       "      <td>male</td>\n",
       "      <td>40.0</td>\n",
       "      <td>adult</td>\n",
       "    </tr>\n",
       "    <tr>\n",
       "      <th>31</th>\n",
       "      <td>32</td>\n",
       "      <td>female</td>\n",
       "      <td>33.1</td>\n",
       "      <td>adult</td>\n",
       "    </tr>\n",
       "    <tr>\n",
       "      <th>32</th>\n",
       "      <td>33</td>\n",
       "      <td>female</td>\n",
       "      <td>24.0</td>\n",
       "      <td>adult</td>\n",
       "    </tr>\n",
       "    <tr>\n",
       "      <th>33</th>\n",
       "      <td>34</td>\n",
       "      <td>male</td>\n",
       "      <td>66.0</td>\n",
       "      <td>elderly</td>\n",
       "    </tr>\n",
       "    <tr>\n",
       "      <th>34</th>\n",
       "      <td>35</td>\n",
       "      <td>male</td>\n",
       "      <td>28.0</td>\n",
       "      <td>adult</td>\n",
       "    </tr>\n",
       "  </tbody>\n",
       "</table>\n",
       "</div>"
      ],
      "text/plain": [
       "    PassengerId     Sex  Ages_All Age_Group\n",
       "0             1    male      22.0     adult\n",
       "1             2  female      38.0     adult\n",
       "2             3  female      26.0     adult\n",
       "3             4  female      35.0     adult\n",
       "4             5    male      35.0     adult\n",
       "5             6    male      33.1     adult\n",
       "6             7    male      54.0     adult\n",
       "7             8    male       2.0     child\n",
       "8             9  female      27.0     adult\n",
       "9            10  female      14.0     child\n",
       "10           11  female       4.0     child\n",
       "11           12  female      58.0     adult\n",
       "12           13    male      20.0     adult\n",
       "13           14    male      39.0     adult\n",
       "14           15  female      14.0     child\n",
       "15           16  female      55.0     adult\n",
       "16           17    male       2.0     child\n",
       "17           18    male      33.1     adult\n",
       "18           19  female      31.0     adult\n",
       "19           20  female      33.1     adult\n",
       "20           21    male      35.0     adult\n",
       "21           22    male      34.0     adult\n",
       "22           23  female      15.0     adult\n",
       "23           24    male      28.0     adult\n",
       "24           25  female       8.0     child\n",
       "25           26  female      38.0     adult\n",
       "26           27    male      33.1     adult\n",
       "27           28    male      19.0     adult\n",
       "28           29  female       5.0     child\n",
       "29           30    male      33.1     adult\n",
       "30           31    male      40.0     adult\n",
       "31           32  female      33.1     adult\n",
       "32           33  female      24.0     adult\n",
       "33           34    male      66.0   elderly\n",
       "34           35    male      28.0     adult"
      ]
     },
     "execution_count": 146,
     "metadata": {},
     "output_type": "execute_result"
    }
   ],
   "source": [
    "# Bin the age values\n",
    "\n",
    "# Define bins: under 14, 14 to 59, 59+ (80.1 is edge of last bin because max age is 80)\n",
    "age_bins = [0.1, 14.0, 59.0, 80.1]  \n",
    "\n",
    "# Create names for the age groups\n",
    "age_labels = ['child', 'adult', 'elderly']\n",
    "\n",
    "# Cut all ages into bins and fill a new column with them\n",
    "df['Age_Group'] = pd.cut(df['Ages_All'], age_bins, labels=age_labels)\n",
    "\n",
    "# View the Age_Group column as part of dataframe\n",
    "df[['PassengerId', 'Sex', 'Ages_All', 'Age_Group']].head(35)"
   ]
  },
  {
   "cell_type": "code",
   "execution_count": 147,
   "metadata": {
    "collapsed": false
   },
   "outputs": [
    {
     "data": {
      "text/plain": [
       "adult      773\n",
       "child       92\n",
       "elderly     26\n",
       "dtype: int64"
      ]
     },
     "execution_count": 147,
     "metadata": {},
     "output_type": "execute_result"
    }
   ],
   "source": [
    "# Count the number of passengers in each group\n",
    "pd.value_counts(df['Age_Group'])"
   ]
  },
  {
   "cell_type": "markdown",
   "metadata": {},
   "source": [
    "_bin cuts that I experimented with:_<br>\n",
    "age_bins = [0.0, 14.9, 58.9, 80.9]<br>\n",
    "age_bins = [0.0, 13.9, 63.9, 80.9]<br>\n",
    "age_bins = [0.0, 19.9, 55.9, 80.9]<br>\n",
    "age_bins = [0.0, 14.5, 29.0, 43.5, 59.0, 73.5, 88.0]"
   ]
  },
  {
   "cell_type": "markdown",
   "metadata": {},
   "source": [
    "By toying with the marginal ages of the adult bin, I was trying to shrink the size of the adult group so that it wasn't so close to the entire frame size. However, but all that did was bring *all three* Age Groups closer to the overall survival rate by *Sex*. And I didn't want the Age variable to simply mirror the Sex variable in relation to survival. So, in the end I went with the age bins as coded above.\n",
    "\n",
    "Something I observed as I altered the marginal ages of the age bins was that the 'adult' survival rates by sex stuck close to the overall survival rates regardless, and the 'elder' rates did too (though not so closely). However, as I pushed the upper margin of the 'child' bin up (towards \"older\" ages), the male survival rates dropped dramatically while female rates improved slightly.\n",
    "\n",
    "I'm going to have to take a closer look at Sex and Age together, and will do so after concluding this Age analysis."
   ]
  },
  {
   "cell_type": "code",
   "execution_count": 148,
   "metadata": {
    "collapsed": false,
    "scrolled": false
   },
   "outputs": [
    {
     "data": {
      "text/plain": [
       "Age_Group\n",
       "child      0.576087\n",
       "adult      0.364812\n",
       "elderly    0.269231\n",
       "Name: Survived, dtype: float64"
      ]
     },
     "execution_count": 148,
     "metadata": {},
     "output_type": "execute_result"
    }
   ],
   "source": [
    "# Proportion that survived per age group\n",
    "surv_by_agegroup = survival_group(df, 'Age_Group')\n",
    "surv_by_agegroup"
   ]
  },
  {
   "cell_type": "code",
   "execution_count": 149,
   "metadata": {
    "collapsed": false,
    "scrolled": false
   },
   "outputs": [
    {
     "data": {
      "image/png": "[encoded data removed]",
      "text/plain": [
       "<matplotlib.figure.Figure at 0x90ff240>"
      ]
     },
     "metadata": {},
     "output_type": "display_data"
    }
   ],
   "source": [
    "# List of survival proportions for each age group\n",
    "age_group_values = surv_by_agegroup.values\n",
    "\n",
    "# Bar labels\n",
    "age_labels = ['Child', 'Adult', 'Elderly']\n",
    "\n",
    "# Set up bars and grid\n",
    "x_pos = list(range(3))  # x position of bars\n",
    "plt.bar(x_pos, age_group_values, width=.75, align='center', color=['g', 'b', 'r'])\n",
    "plt.grid()\n",
    "\n",
    "# set axes labels and title\n",
    "plt.ylabel('Proportion survived')\n",
    "plt.xticks(x_pos, age_labels)\n",
    "plt.yticks(arange(0.0, 1.1, 0.1))\n",
    "plt.title('Proportion that survived by Age Group')\n",
    "\n",
    "plt.show()"
   ]
  },
  {
   "cell_type": "markdown",
   "metadata": {},
   "source": [
    "__*Tentative Conclusions: Age*__\n",
    "\n",
    "A passenger's age was not a strong factor in the likelihood of surviving _except among the **very young**_.\n",
    "\n",
    "Children under age 14 were more likely to survive than not. Adults (including teenagers over 14, but not including the elderly) survived at nearly the same rate as all passengers combined. The elderly had a lower survival rate than all passengers combined.\n",
    "\n",
    "If I'd used a younger age in which to \"bin\" the children, the likelihood of survival would be higher. For example, if I'd chosen age 6 -- not far from the mean of the under-14 group --, the proportion would go up to 0.6981. But again, because of the skew of the Age distribution, making the \"child\" younger would only reinforce the already very large size of the \"adult\" group. I also wanted the \"child\" group to be more consistent with my method of filling in missing ages for names with \"Master\" or \"Miss\" in them.\n",
    "\n",
    "****"
   ]
  },
  {
   "cell_type": "markdown",
   "metadata": {},
   "source": [
    "## Multivariate exploration"
   ]
  },
  {
   "cell_type": "markdown",
   "metadata": {
    "collapsed": true
   },
   "source": [
    "### Sex and Age"
   ]
  },
  {
   "cell_type": "code",
   "execution_count": 150,
   "metadata": {
    "collapsed": false,
    "scrolled": true
   },
   "outputs": [
    {
     "data": {
      "text/html": [
       "<div>\n",
       "<table border=\"1\" class=\"dataframe\">\n",
       "  <thead>\n",
       "    <tr style=\"text-align: right;\">\n",
       "      <th></th>\n",
       "      <th></th>\n",
       "      <th>Survived</th>\n",
       "    </tr>\n",
       "    <tr>\n",
       "      <th>Age_Group</th>\n",
       "      <th>Sex</th>\n",
       "      <th></th>\n",
       "    </tr>\n",
       "  </thead>\n",
       "  <tbody>\n",
       "    <tr>\n",
       "      <th rowspan=\"2\" valign=\"top\">child</th>\n",
       "      <th>female</th>\n",
       "      <td>0.612245</td>\n",
       "    </tr>\n",
       "    <tr>\n",
       "      <th>male</th>\n",
       "      <td>0.534884</td>\n",
       "    </tr>\n",
       "    <tr>\n",
       "      <th rowspan=\"2\" valign=\"top\">adult</th>\n",
       "      <th>female</th>\n",
       "      <td>0.762452</td>\n",
       "    </tr>\n",
       "    <tr>\n",
       "      <th>male</th>\n",
       "      <td>0.162109</td>\n",
       "    </tr>\n",
       "    <tr>\n",
       "      <th rowspan=\"2\" valign=\"top\">elderly</th>\n",
       "      <th>female</th>\n",
       "      <td>1.000000</td>\n",
       "    </tr>\n",
       "    <tr>\n",
       "      <th>male</th>\n",
       "      <td>0.136364</td>\n",
       "    </tr>\n",
       "  </tbody>\n",
       "</table>\n",
       "</div>"
      ],
      "text/plain": [
       "                  Survived\n",
       "Age_Group Sex             \n",
       "child     female  0.612245\n",
       "          male    0.534884\n",
       "adult     female  0.762452\n",
       "          male    0.162109\n",
       "elderly   female  1.000000\n",
       "          male    0.136364"
      ]
     },
     "execution_count": 150,
     "metadata": {},
     "output_type": "execute_result"
    }
   ],
   "source": [
    "# We want to look at Sex, Age Group, and Survived\n",
    "sex_age_data = df[['Survived', 'Sex', 'Age_Group']]\n",
    "\n",
    "# Apply survival function to the relevant columns (hierarchical index)\n",
    "dfSexAge = pd.DataFrame(survival_group(sex_age_data, ['Age_Group', 'Sex']))\n",
    "dfSexAge"
   ]
  },
  {
   "cell_type": "code",
   "execution_count": 151,
   "metadata": {
    "collapsed": false,
    "scrolled": true
   },
   "outputs": [
    {
     "name": "stdout",
     "output_type": "stream",
     "text": [
      "\n",
      "Male survival rates drop dramatically between age groups:\n"
     ]
    },
    {
     "data": {
      "image/png": "[encoded data removed]",
      "text/plain": [
       "<matplotlib.figure.Figure at 0x97f0908>"
      ]
     },
     "metadata": {},
     "output_type": "display_data"
    }
   ],
   "source": [
    "# group males by age, then plot survival rates\n",
    "\n",
    "boys = dfSexAge.index[1]\n",
    "men = dfSexAge.index[3]\n",
    "oldmen = dfSexAge.index[5]\n",
    "\n",
    "print('\\nMale survival rates drop dramatically between age groups:')\n",
    "male_groups = pd.DataFrame([dfSexAge.loc[boys], dfSexAge.loc[men], dfSexAge.loc[oldmen]])\n",
    "# plot\n",
    "male_groups.plot(grid=True, color='0.5', linewidth=8, legend=False)\n",
    "show()"
   ]
  },
  {
   "cell_type": "markdown",
   "metadata": {},
   "source": [
    "__*Observations:*__\n",
    "\n",
    "Girls' survival rate was only about 1% higher than that of all females. <br>\n",
    "Boys' survival rate was *substantially* higher than that of other males (0.643 to 0.189). In fact, boys were there only male group with more than a 0.5 survival rate, as far as I could discover.<p>\n",
    "Adults of both sexes had about the same survival rate as that of all passengers.<br>\n",
    "Elderly men survived at a rate below that of boys, adult males, and males overall. Elderly women (over age 59) all survived, but there were only 4 of them.<br>\n",
    "\n",
    "Among **children**, the _**male survival rate was not much lower than the female rate**_. This suggests that Age could in some circumstances be as strong a factor in survival as was Sex.\n",
    "\n",
    "Among adults and elders the survival discrepancy by Sex was more obvious (however, this statement isn't definitive for the elderly because there just weren't that many of them in this passenger sample)."
   ]
  },
  {
   "cell_type": "markdown",
   "metadata": {
    "collapsed": true
   },
   "source": [
    "### Sex and Pclass"
   ]
  },
  {
   "cell_type": "code",
   "execution_count": 152,
   "metadata": {
    "collapsed": false,
    "scrolled": false
   },
   "outputs": [
    {
     "name": "stdout",
     "output_type": "stream",
     "text": [
      "Survival by Pclass, by Sex:\n",
      "Sex     Pclass\n",
      "female  1         0.968085\n",
      "        2         0.921053\n",
      "        3         0.500000\n",
      "male    1         0.368852\n",
      "        2         0.157407\n",
      "        3         0.135447\n",
      "Name: Survived, dtype: float64\n",
      "\n",
      "Survival by Sex within each Pclass:\n"
     ]
    },
    {
     "data": {
      "text/plain": [
       "Pclass  Sex   \n",
       "1       female    0.968085\n",
       "        male      0.368852\n",
       "2       female    0.921053\n",
       "        male      0.157407\n",
       "3       female    0.500000\n",
       "        male      0.135447\n",
       "Name: Survived, dtype: float64"
      ]
     },
     "execution_count": 152,
     "metadata": {},
     "output_type": "execute_result"
    }
   ],
   "source": [
    "# Apply survival function to the two columns\n",
    "# (switch the hierarchical index for each, to look at it both ways)\n",
    "\n",
    "print('Survival by Pclass, by Sex:')\n",
    "print(survival_group(df, ['Sex', 'Pclass']))\n",
    "\n",
    "print('\\nSurvival by Sex within each Pclass:')\n",
    "dfPclassSex = survival_group(df, ['Pclass', 'Sex'])\n",
    "dfPclassSex"
   ]
  },
  {
   "cell_type": "code",
   "execution_count": 153,
   "metadata": {
    "collapsed": false,
    "scrolled": false
   },
   "outputs": [
    {
     "data": {
      "image/png": "[encoded data removed]",
      "text/plain": [
       "<matplotlib.figure.Figure at 0xa9cbc88>"
      ]
     },
     "metadata": {},
     "output_type": "display_data"
    }
   ],
   "source": [
    "# Plot survival by Pclass and Sex\n",
    "\n",
    "# suppress FutureWarning from output\n",
    "import warnings\n",
    "warnings.simplefilter(action = \"ignore\", category = FutureWarning)\n",
    "\n",
    "# data\n",
    "dfSP = survival_group(df, ['Sex','Pclass']).unstack()\n",
    "# plot\n",
    "dfSP.plot(kind='bar', fontsize=12, title='Survival by Sex & Pclass').set_ylabel('Proportion Survived')\n",
    "show()\n",
    "\n",
    "# Reviewer: thanks for the tip!"
   ]
  },
  {
   "cell_type": "markdown",
   "metadata": {},
   "source": [
    "__*Tentative conclusions: Sex and Pclass*__\n",
    "\n",
    "\n",
    "Nearly *all* 1st and 2nd Class females survived, but only half of the 3rd Class females survived. The proportion of 1st Class males who survived is nearly *twice* that of all males of all classes. Few 2nd and 3rd Class males survived. Therefore, we could divide each sex's likelihood of survival into two groups by passenger class -- but the composition of those groups is different for females and males:<br>\n",
    "-- The most likely females to survive were in _1st and 2nd_ Class.<br>\n",
    "-- The least likely male survivors were in _2nd and 3rd_ Class.<p>\n",
    "\n",
    "The survival rate difference between females and males is starkest within the 2nd Class group. That is to say, among 2nd Class passengers, _Sex_ was more noticeably tied to survival rates than Pclass was. In contrast, among the 1st and 3rd Class passengers _Pclass_ was more connected to survival rates than Sex was."
   ]
  },
  {
   "cell_type": "markdown",
   "metadata": {
    "collapsed": true
   },
   "source": [
    "### Age and Pclass"
   ]
  },
  {
   "cell_type": "code",
   "execution_count": 154,
   "metadata": {
    "collapsed": false,
    "scrolled": false
   },
   "outputs": [
    {
     "name": "stdout",
     "output_type": "stream",
     "text": [
      "\n",
      "Class survival by Age Group\n",
      "\n",
      "CHILDREN\n",
      "Pclass\n",
      "1    0.800000\n",
      "2    1.000000\n",
      "3    0.441176\n",
      "Name: Survived, dtype: float64 \n",
      "\n",
      "ADULTS\n",
      "Pclass\n",
      "1    0.654639\n",
      "2    0.416149\n",
      "3    0.210526\n",
      "Name: Survived, dtype: float64 \n",
      "\n",
      "ELDERLY\n",
      "Pclass\n",
      "1    0.294118\n",
      "2    0.250000\n",
      "3    0.200000\n",
      "Name: Survived, dtype: float64 \n",
      "\n"
     ]
    }
   ],
   "source": [
    "# Calculate survival rates of each age group by Pclass\n",
    "\n",
    "print('\\nClass survival by Age Group\\n')\n",
    "\n",
    "print('CHILDREN')\n",
    "print(survival_group(df[df.Age_Group=='child'], 'Pclass'), '\\n')\n",
    "\n",
    "print('ADULTS')\n",
    "print(survival_group(df[df.Age_Group=='adult'], 'Pclass'), '\\n')\n",
    "\n",
    "print('ELDERLY')\n",
    "print(survival_group(df[df.Age_Group=='elderly'], 'Pclass'), '\\n')"
   ]
  },
  {
   "cell_type": "markdown",
   "metadata": {},
   "source": [
    "_Observations:_\n",
    "\n",
    "At first glance it's surprising that only two-thirds of the 1st class children survived while *all* of the 2nd Class children survived. But this is misleading due to sample size -- only 3 of the passengers in my \"child\" Age Group were 1st Class while 15 were 2nd Class."
   ]
  },
  {
   "cell_type": "code",
   "execution_count": 155,
   "metadata": {
    "collapsed": false,
    "scrolled": false
   },
   "outputs": [
    {
     "name": "stdout",
     "output_type": "stream",
     "text": [
      "Pclass\n",
      "1     5\n",
      "2    19\n",
      "3    68\n",
      "Name: PassengerId, dtype: int64\n"
     ]
    },
    {
     "data": {
      "image/png": "[encoded data removed]",
      "text/plain": [
       "<matplotlib.figure.Figure at 0xa7e6fd0>"
      ]
     },
     "metadata": {},
     "output_type": "display_data"
    }
   ],
   "source": [
    "# How many children are there in each Pclass?\n",
    "child_classes = df[df.Age_Group=='child'].groupby('Pclass')['PassengerId'].count()\n",
    "print(child_classes)\n",
    "\n",
    "# Plot it\n",
    "child_classes.plot(kind='bar', title='Children in each Passenger Class', \\\n",
    "                   color=['b','g','r'], width=0.8, rot=True).set_ylabel('Count')\n",
    "show()"
   ]
  },
  {
   "cell_type": "markdown",
   "metadata": {},
   "source": [
    "_Far more children were travelling 3rd Class than in 1st or 2nd Class._<p>"
   ]
  },
  {
   "cell_type": "markdown",
   "metadata": {},
   "source": [
    "__*Tentative conclusions: Age and Pclass*__\n",
    "\n",
    "The proportion of children that survived was above the overall survival rate for all three Pclasses. In general, being a child was a stronger factor in survival than the Pclass was.\n",
    "\n",
    "The proportion of 1st Class adults who survived (.655) is less than the proportion of 1st Class children who survived (.800), but it's not a big difference. However, in the 2nd and 3rd Classes, adult (and elderly) survival rates were _substantially_ less than the survival rate of children in those two classes.\n",
    "\n",
    "Adults in 1st class survived at a much higher rate than the overall survival of 0.384. Adults in 2nd Class survived at just a slightly higher rate than the overall rate. Adults in 3rd Class survived at a lower rate than the overall survival rate -- about the same survival rate as the elderly of all classes.\n",
    "\n",
    "Elderly passengers had a low rate of survival regardless of Pclass."
   ]
  },
  {
   "cell_type": "markdown",
   "metadata": {},
   "source": [
    "****\n",
    "\n",
    "## All three Factors: Age, Sex, and Pclass"
   ]
  },
  {
   "cell_type": "code",
   "execution_count": 156,
   "metadata": {
    "collapsed": false,
    "scrolled": false
   },
   "outputs": [
    {
     "data": {
      "text/html": [
       "<div>\n",
       "<table border=\"1\" class=\"dataframe\">\n",
       "  <thead>\n",
       "    <tr style=\"text-align: right;\">\n",
       "      <th></th>\n",
       "      <th></th>\n",
       "      <th></th>\n",
       "      <th>Survived</th>\n",
       "    </tr>\n",
       "    <tr>\n",
       "      <th>Sex</th>\n",
       "      <th>Age_Group</th>\n",
       "      <th>Pclass</th>\n",
       "      <th></th>\n",
       "    </tr>\n",
       "  </thead>\n",
       "  <tbody>\n",
       "    <tr>\n",
       "      <th rowspan=\"8\" valign=\"top\">female</th>\n",
       "      <th rowspan=\"3\" valign=\"top\">child</th>\n",
       "      <th>1</th>\n",
       "      <td>0.500000</td>\n",
       "    </tr>\n",
       "    <tr>\n",
       "      <th>2</th>\n",
       "      <td>1.000000</td>\n",
       "    </tr>\n",
       "    <tr>\n",
       "      <th>3</th>\n",
       "      <td>0.513514</td>\n",
       "    </tr>\n",
       "    <tr>\n",
       "      <th rowspan=\"3\" valign=\"top\">adult</th>\n",
       "      <th>1</th>\n",
       "      <td>0.977528</td>\n",
       "    </tr>\n",
       "    <tr>\n",
       "      <th>2</th>\n",
       "      <td>0.909091</td>\n",
       "    </tr>\n",
       "    <tr>\n",
       "      <th>3</th>\n",
       "      <td>0.490566</td>\n",
       "    </tr>\n",
       "    <tr>\n",
       "      <th rowspan=\"2\" valign=\"top\">elderly</th>\n",
       "      <th>1</th>\n",
       "      <td>1.000000</td>\n",
       "    </tr>\n",
       "    <tr>\n",
       "      <th>3</th>\n",
       "      <td>1.000000</td>\n",
       "    </tr>\n",
       "    <tr>\n",
       "      <th rowspan=\"9\" valign=\"top\">male</th>\n",
       "      <th rowspan=\"3\" valign=\"top\">child</th>\n",
       "      <th>1</th>\n",
       "      <td>1.000000</td>\n",
       "    </tr>\n",
       "    <tr>\n",
       "      <th>2</th>\n",
       "      <td>1.000000</td>\n",
       "    </tr>\n",
       "    <tr>\n",
       "      <th>3</th>\n",
       "      <td>0.354839</td>\n",
       "    </tr>\n",
       "    <tr>\n",
       "      <th rowspan=\"3\" valign=\"top\">adult</th>\n",
       "      <th>1</th>\n",
       "      <td>0.380952</td>\n",
       "    </tr>\n",
       "    <tr>\n",
       "      <th>2</th>\n",
       "      <td>0.073684</td>\n",
       "    </tr>\n",
       "    <tr>\n",
       "      <th>3</th>\n",
       "      <td>0.115385</td>\n",
       "    </tr>\n",
       "    <tr>\n",
       "      <th rowspan=\"3\" valign=\"top\">elderly</th>\n",
       "      <th>1</th>\n",
       "      <td>0.142857</td>\n",
       "    </tr>\n",
       "    <tr>\n",
       "      <th>2</th>\n",
       "      <td>0.250000</td>\n",
       "    </tr>\n",
       "    <tr>\n",
       "      <th>3</th>\n",
       "      <td>0.000000</td>\n",
       "    </tr>\n",
       "  </tbody>\n",
       "</table>\n",
       "</div>"
      ],
      "text/plain": [
       "                         Survived\n",
       "Sex    Age_Group Pclass          \n",
       "female child     1       0.500000\n",
       "                 2       1.000000\n",
       "                 3       0.513514\n",
       "       adult     1       0.977528\n",
       "                 2       0.909091\n",
       "                 3       0.490566\n",
       "       elderly   1       1.000000\n",
       "                 3       1.000000\n",
       "male   child     1       1.000000\n",
       "                 2       1.000000\n",
       "                 3       0.354839\n",
       "       adult     1       0.380952\n",
       "                 2       0.073684\n",
       "                 3       0.115385\n",
       "       elderly   1       0.142857\n",
       "                 2       0.250000\n",
       "                 3       0.000000"
      ]
     },
     "execution_count": 156,
     "metadata": {},
     "output_type": "execute_result"
    }
   ],
   "source": [
    "# Pare down the data we're looking at\n",
    "data = df[['Survived', 'Sex', 'Pclass', 'Age_Group']]\n",
    "\n",
    "# Call survival group function on data; make it a DataFrame\n",
    "factors = pd.DataFrame(survival_group(data, ['Sex', 'Age_Group', 'Pclass']))\n",
    "\n",
    "# View the DataFrame: survival proportion by Sex, Age Group, and Pclass\n",
    "factors"
   ]
  },
  {
   "cell_type": "markdown",
   "metadata": {},
   "source": [
    "__*Observations:*__\n",
    "\n",
    "The are quite a few survival rate numbers here when you break it down by three factors, and those __0.0__'s and __1.0__'s stand out like a sore thumb. \n",
    "\n",
    "It might have something to do with the low counts of passengers fitting certain criteria. Let's see..."
   ]
  },
  {
   "cell_type": "code",
   "execution_count": 157,
   "metadata": {
    "collapsed": false,
    "scrolled": false
   },
   "outputs": [
    {
     "data": {
      "text/html": [
       "<div>\n",
       "<table border=\"1\" class=\"dataframe\">\n",
       "  <thead>\n",
       "    <tr style=\"text-align: right;\">\n",
       "      <th></th>\n",
       "      <th></th>\n",
       "      <th></th>\n",
       "      <th>On Board</th>\n",
       "    </tr>\n",
       "    <tr>\n",
       "      <th>Age_Group</th>\n",
       "      <th>Pclass</th>\n",
       "      <th>Sex</th>\n",
       "      <th></th>\n",
       "    </tr>\n",
       "  </thead>\n",
       "  <tbody>\n",
       "    <tr>\n",
       "      <th rowspan=\"6\" valign=\"top\">child</th>\n",
       "      <th rowspan=\"2\" valign=\"top\">1</th>\n",
       "      <th>female</th>\n",
       "      <td>2</td>\n",
       "    </tr>\n",
       "    <tr>\n",
       "      <th>male</th>\n",
       "      <td>3</td>\n",
       "    </tr>\n",
       "    <tr>\n",
       "      <th rowspan=\"2\" valign=\"top\">2</th>\n",
       "      <th>female</th>\n",
       "      <td>10</td>\n",
       "    </tr>\n",
       "    <tr>\n",
       "      <th>male</th>\n",
       "      <td>9</td>\n",
       "    </tr>\n",
       "    <tr>\n",
       "      <th rowspan=\"2\" valign=\"top\">3</th>\n",
       "      <th>female</th>\n",
       "      <td>37</td>\n",
       "    </tr>\n",
       "    <tr>\n",
       "      <th>male</th>\n",
       "      <td>31</td>\n",
       "    </tr>\n",
       "    <tr>\n",
       "      <th rowspan=\"6\" valign=\"top\">adult</th>\n",
       "      <th rowspan=\"2\" valign=\"top\">1</th>\n",
       "      <th>female</th>\n",
       "      <td>89</td>\n",
       "    </tr>\n",
       "    <tr>\n",
       "      <th>male</th>\n",
       "      <td>105</td>\n",
       "    </tr>\n",
       "    <tr>\n",
       "      <th rowspan=\"2\" valign=\"top\">2</th>\n",
       "      <th>female</th>\n",
       "      <td>66</td>\n",
       "    </tr>\n",
       "    <tr>\n",
       "      <th>male</th>\n",
       "      <td>95</td>\n",
       "    </tr>\n",
       "    <tr>\n",
       "      <th rowspan=\"2\" valign=\"top\">3</th>\n",
       "      <th>female</th>\n",
       "      <td>106</td>\n",
       "    </tr>\n",
       "    <tr>\n",
       "      <th>male</th>\n",
       "      <td>312</td>\n",
       "    </tr>\n",
       "    <tr>\n",
       "      <th rowspan=\"5\" valign=\"top\">elderly</th>\n",
       "      <th rowspan=\"2\" valign=\"top\">1</th>\n",
       "      <th>female</th>\n",
       "      <td>3</td>\n",
       "    </tr>\n",
       "    <tr>\n",
       "      <th>male</th>\n",
       "      <td>14</td>\n",
       "    </tr>\n",
       "    <tr>\n",
       "      <th>2</th>\n",
       "      <th>male</th>\n",
       "      <td>4</td>\n",
       "    </tr>\n",
       "    <tr>\n",
       "      <th rowspan=\"2\" valign=\"top\">3</th>\n",
       "      <th>female</th>\n",
       "      <td>1</td>\n",
       "    </tr>\n",
       "    <tr>\n",
       "      <th>male</th>\n",
       "      <td>4</td>\n",
       "    </tr>\n",
       "  </tbody>\n",
       "</table>\n",
       "</div>"
      ],
      "text/plain": [
       "                         On Board\n",
       "Age_Group Pclass Sex             \n",
       "child     1      female         2\n",
       "                 male           3\n",
       "          2      female        10\n",
       "                 male           9\n",
       "          3      female        37\n",
       "                 male          31\n",
       "adult     1      female        89\n",
       "                 male         105\n",
       "          2      female        66\n",
       "                 male          95\n",
       "          3      female       106\n",
       "                 male         312\n",
       "elderly   1      female         3\n",
       "                 male          14\n",
       "          2      male           4\n",
       "          3      female         1\n",
       "                 male           4"
      ]
     },
     "execution_count": 157,
     "metadata": {},
     "output_type": "execute_result"
    }
   ],
   "source": [
    "# Count sex per age group and pclass\n",
    "s_by_ap = pd.DataFrame(df.groupby(['Age_Group', 'Pclass'])['Sex'].value_counts(sort=False))\n",
    "\n",
    "# Change name of column of value counts (label was \"0\"); then view\n",
    "s_by_ap.rename_axis({0: 'On Board'}, axis=1)"
   ]
  },
  {
   "cell_type": "markdown",
   "metadata": {},
   "source": [
    "The 0.0's and 1.0's were due to there being few 1st and 2nd Class children aboard, and to the small size of my 'child' and (especially) my 'elder' age groups.\n",
    "\n",
    "****"
   ]
  },
  {
   "cell_type": "markdown",
   "metadata": {},
   "source": [
    "__*More observations regarding likelihood of survival:*__\n",
    "\n",
    "Combining all three factors into one likelihood-of-survival DataFrame just serves to reinforce the observations I've made already. Females were more likely to survive than males. Children were more likely to survive than adults and the elderly. 1st Class passengers were more likely to survive than 2nd or 3rd Class passengers (though 2nd Class passengers did have a better-than-average survival rate).\n",
    "\n",
    "**Here are a couple of new observations that stood out:**<br>\n",
    "\n",
    "All females had a higher likelihood of survival than the overall likelihood of 0.384. Even 3rd Class adult females (0.459 survival) had better than the overall survival rate.<br>\n",
    "The only males whose likelihood of surviving beat 0.384 were men in 1st Class (barely), and all boys under age 14.\n"
   ]
  },
  {
   "cell_type": "markdown",
   "metadata": {},
   "source": [
    "****\n",
    "\n",
    "## Summary of Tentative Conclusions\n",
    "\n",
    "_**Limits of this data analysis:**  \n",
    "Only three independent variables were explored as factors. Other factors could have been explored in a lengthier, more complex analysis. For example, I could have explored the likelihood of survival based on whether a passenger was traveling alone or with family by wrangling all the combinations of values in the \"SibSp\" (sibling-spouse) and \"Parch\" (parent-child) data. Likewise, I could've looked at survival rates by point of Embarkation._  \n",
    "\n",
    "_It should be noted that the data in this project represents only a sample of passengers from the total number who were aboard the Titanic. The titanic data here contains records for 891 of the passengers. There were over 2000 passengers and crew aboard the ship when she sailed._\n",
    "\n",
    "__Conclusions:__\n",
    "\n",
    "Overall, I think I was observing the *\"women and children first\"* norm in action in this sample -- with a *passenger class* twist.\n",
    "\n",
    "The passenger class \"twist\", for one example, showed up in how all of the 1st and 2nd Class boys survived but fewer than half of the 3rd Class boys survived, in which case Pclass seemed like more of a survival factor than age was. I say \"seemed like\" because there may have been other dynamics in play, such as families (or a mother and her child) deciding to remain together rather than be split apart as the lifeboats were being filled, and therefore all surviving or all perishing together.\n",
    "\n",
    "__*Overall, based on the three factors examined:*__\n",
    "\n",
    "__Sex__ appears to be the strongest factor in the likelihood of survival.\n",
    "\n",
    "__Age__ came close to being as strong a factor as Sex *at very __young__ ages* only.\n",
    "\n",
    "Compared to the other two factors, __Passenger Class__ by itself did not have as strong an effect on survival rates -- but it *could alter* the effect the other two factors had on the likelihood of survival.\n",
    "\n",
    "Therefore, with qualifications, I would stick with a general statement that the combination of factors which made people more likely to survive the sinking of the Titanic could be summarized as \"women and children first\"."
   ]
  },
  {
   "cell_type": "markdown",
   "metadata": {},
   "source": [
    "****  \n",
    "\n",
    "## References, Sources, Inspiration and Hat Tips\n",
    "\n",
    "#### *As I worked on this project, the following sources provided me with guidance, tips, how-to's, and inspiration.*\n",
    "\n"
   ]
  },
  {
   "cell_type": "markdown",
   "metadata": {
    "collapsed": true,
    "scrolled": false
   },
   "source": [
    "**Udacity** course: \"Introduction to Data Analysis\", especially *Lesson 3*  \n",
    "http://matplotlib.org/api/pyplot_api.html#pyplot  \n",
    "http://pandas.pydata.org/pandas-docs/stable/generated/pandas.cut.html   \n",
    "http://pandas.pydata.org/pandas-docs/version/0.17.0/visualization.html   \n",
    "http://nbviewer.jupyter.org/github/rasbt/matplotlib-gallery/blob/master/ipynb/barplots.ipynb#Bar-plot-with-plot-labels/text-2  \n",
    "https://github.com/fonnesbeck/statistical-analysis-python-tutorial (esp. Lesson 3, \"Plotting and Visualization\")  \n",
    "https://www.kaggle.com/c/titanic/forums/t/6130/genderclassmodel-pandas-py (hat tip: Dov Grobgeld)  \n",
    "https://github.com/agconti/kaggle-titanic (hat tip: AstroDave)  \n",
    "http://chrisalbon.com/python/matplotlib_bar_plot.html  \n",
    "http://chrisalbon.com/python/matplotlib_pie_chart.html  \n",
    "http://chrisalbon.com/python/pandas_binning_data.html  \n",
    "http://www.shanelynn.ie/summarising-aggregation-and-grouping-data-in-python-pandas/  \n",
    "http://stackoverflow.com/questions/15777951/how-to-suppress-pandas-future-warning"
   ]
  }
 ],
 "metadata": {
  "kernelspec": {
   "display_name": "Python 3",
   "language": "python",
   "name": "python3"
  },
  "language_info": {
   "codemirror_mode": {
    "name": "ipython",
    "version": 3
   },
   "file_extension": ".py",
   "mimetype": "text/x-python",
   "name": "python",
   "nbconvert_exporter": "python",
   "pygments_lexer": "ipython3",
   "version": "3.4.3"
  }
 },
 "nbformat": 4,
 "nbformat_minor": 0
}
